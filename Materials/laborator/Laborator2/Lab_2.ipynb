{
 "cells": [
  {
   "cell_type": "code",
   "execution_count": null,
   "metadata": {
    "ExecuteTime": {
     "end_time": "2020-03-01T08:55:42.655097Z",
     "start_time": "2020-03-01T08:55:42.235222Z"
    }
   },
   "outputs": [],
   "source": [
    "import numpy as np\n",
    "import pandas as pd\n",
    "from typing import Tuple, List"
   ]
  },
  {
   "cell_type": "markdown",
   "metadata": {},
   "source": [
    "## Data reading"
   ]
  },
  {
   "cell_type": "code",
   "execution_count": null,
   "metadata": {
    "ExecuteTime": {
     "end_time": "2020-03-01T08:55:42.870526Z",
     "start_time": "2020-03-01T08:55:42.658091Z"
    }
   },
   "outputs": [],
   "source": [
    "# incarcarea datelor\n",
    "\n",
    "# data source: http://archive.ics.uci.edu/ml/datasets/Condition+Based+Maintenance+of+Naval+Propulsion+Plants\n",
    "file = 'data.txt'\n",
    "data_df = pd.read_csv(file, sep=r'\\s+', header=None)\n",
    "data = data_df.values"
   ]
  },
  {
   "cell_type": "code",
   "execution_count": null,
   "metadata": {
    "ExecuteTime": {
     "end_time": "2020-03-01T08:55:42.881493Z",
     "start_time": "2020-03-01T08:55:42.872517Z"
    }
   },
   "outputs": [],
   "source": [
    "# se sterge penultima coloana\n",
    "\n",
    "data = # scrieti cod\n",
    "print(data.shape)\n",
    "assert data.shape == (11934, 17)"
   ]
  },
  {
   "cell_type": "markdown",
   "metadata": {},
   "source": [
    "## Input processing"
   ]
  },
  {
   "cell_type": "code",
   "execution_count": null,
   "metadata": {
    "ExecuteTime": {
     "end_time": "2020-03-01T08:55:44.291722Z",
     "start_time": "2020-03-01T08:55:44.283743Z"
    }
   },
   "outputs": [],
   "source": [
    "# Functie pentru separarea datelor de intrare de cele de iesire\n",
    "\n",
    "def get_input_output(mat: np.array) -> Tuple[np.array, np.array]:\n",
    "    \"\"\"Separa partea de intrare (variabile independente) de cea de iesire \n",
    "    (variabila dependenta).\n",
    "    \n",
    "    :param mat: np.array de forma (m, n). Fiecare linie este un caz \n",
    "    inregistrat, adica un vector de intrare. Primele n-1 coloane sunt valori \n",
    "    de intrare in model, ultima coloana este valoarea de iesire asociata \n",
    "    (ground truth).\n",
    "    \n",
    "    :return: un tuplu cu: matrice de (m, n-1) continand intrarile \n",
    "    (o linie = un vector de intrare); un vector coloana cu m linii continand\n",
    "    valorile de iesire asociate intrarilor.\n",
    "    \"\"\"\n",
    "    m, n = mat.shape\n",
    "    X = # scrieti cod\n",
    "    y = # scrieti cod\n",
    "    assert np.alltrue(X == mat[:, :-1])\n",
    "    assert np.alltrue(y[:, -1] == mat[:, -1])\n",
    "    return X, y"
   ]
  },
  {
   "cell_type": "code",
   "execution_count": null,
   "metadata": {
    "ExecuteTime": {
     "end_time": "2020-03-01T08:55:44.302692Z",
     "start_time": "2020-03-01T08:55:44.296708Z"
    }
   },
   "outputs": [],
   "source": [
    "# separa matricea cu vectorii de intrare si vectorul coloana cu iesirile asociate\n",
    "\n",
    "X, y = # scrieti cod"
   ]
  },
  {
   "cell_type": "code",
   "execution_count": null,
   "metadata": {
    "ExecuteTime": {
     "end_time": "2020-03-01T08:55:44.320643Z",
     "start_time": "2020-03-01T08:55:44.306684Z"
    }
   },
   "outputs": [],
   "source": [
    "# Functie pentru scalarea datelor in intervalul [0, 1]. \n",
    "# Scalele se calculeaza pe baza datelor furnizate\n",
    "\n",
    "def scale_matrix(mat: np.array) -> np.array:\n",
    "    \"\"\"Preia o matrice cu valori reale si scaleaza toate coloanele in \n",
    "    intervalul [0, 1]. Coloanele constante vor fi transformate in 1.\n",
    "    \n",
    "    :param mat: matrice de forma (m, n)\n",
    "    :return: matrice cu valori scalate in [0, 1]\n",
    "    \"\"\"\n",
    "    \n",
    "    # calculeaza pe ce indecsi minimele si maximele difera. \n",
    "    # Doar pe acestea se va face scalare. Coloanele pentru care minimele si \n",
    "    # maximele sunt egale au valori constante si vor fi umplute automat cu 1.\n",
    "    min_cols, max_cols = # scrieti codpentru a determina minimele si maximele \n",
    "    # de pe fiecare coloana a lui mat\n",
    "    different_min_max = # scrieti cod pentru a determina pe ce coloane \n",
    "    # minimele si maximele difera\n",
    "    result = np.ones_like(mat)\n",
    "    result[:, different_min_max] = # scrieti cod pentru scalarea datelor folosind min_cols, max_cols\n",
    "    assert result.shape == mat.shape\n",
    "    assert np.alltrue(np.min(result, axis=0) >= 0)\n",
    "    assert np.alltrue(np.max(result, axis=0) <= 1)\n",
    "    return result, min_cols, max_cols"
   ]
  },
  {
   "cell_type": "code",
   "execution_count": null,
   "metadata": {
    "ExecuteTime": {
     "end_time": "2020-03-01T08:55:44.339593Z",
     "start_time": "2020-03-01T08:55:44.324633Z"
    }
   },
   "outputs": [],
   "source": [
    "# Functie pentru scalarea datelor. \n",
    "# Scalele sunt furnizate, de regula calculate pe baza datelor din setul \n",
    "# de antrenare\n",
    "\n",
    "def scale_matrix_with_known_minmax(mat: np.array, min_cols: np.array, max_cols: np.array) -> np.array:\n",
    "    \"\"\"Preia o matrice  :param mat: si efectueaza scalarea valorilor in \n",
    "    intervalul [0, 1] folosind valori de min si max pe fiecare coloana \n",
    "    precalculate si date prin parametrii :param min_cols:, :param max_cols:.\n",
    "    \n",
    "    :param mat: matricea de (m, n) care trebuie scalata.\n",
    "    :param min_cols: minime pe coloane, precalculate\n",
    "    :param max_cols: maxime pe coloane, precalculate\n",
    "    :return: matrice de (m, n) cu valori scalate.\n",
    "    \"\"\"\n",
    "    # calculeaza pe ce indecsi minimele si maximele difera. \n",
    "    # Doar pe acestea se va face scalare. Coloanele pentru care minimele si \n",
    "    # maximele sunt egale au valori constante si vor fi umplute automat cu 1.\n",
    "    different_min_max = # scrieti cod pentru a determina pe ce coloane difera \n",
    "    # minimele si maximele (coloane cu valori necosntante)\n",
    "    result = np.ones_like(mat)\n",
    "    result[:, different_min_max] = # scrieti cod care sa scaleze datele \n",
    "    # folosind parametrii min_cols si max_cols dati\n",
    "    assert result.shape == mat.shape\n",
    "    return result"
   ]
  },
  {
   "cell_type": "code",
   "execution_count": null,
   "metadata": {
    "ExecuteTime": {
     "end_time": "2020-03-01T08:55:44.354552Z",
     "start_time": "2020-03-01T08:55:44.342586Z"
    }
   },
   "outputs": [],
   "source": [
    "# scaleaza matricele\n",
    "\n",
    "X, min_cols, max_cols = # scrieti cod pentru a scala X intre 0 si 1 # aici min_cols si max_cols nu vor fi de fapt folosite\n",
    "y, _, _ = # scrieti cod pentru a scala coloana y in [0, 1]"
   ]
  },
  {
   "cell_type": "code",
   "execution_count": null,
   "metadata": {
    "ExecuteTime": {
     "end_time": "2020-03-01T08:55:44.363529Z",
     "start_time": "2020-03-01T08:55:44.356550Z"
    }
   },
   "outputs": [],
   "source": [
    "# calculeaza matricea de design: coloana de 1 adaugata in fata datelor originare\n",
    "\n",
    "def design_matrix(mat: np.array) -> np.array:\n",
    "    \"\"\"Preia o matrice de forma (m, n) si returneaza o matrice de forma \n",
    "    (m, n+1), in care prima coloana este 1, iar ultimele n coloane sunt \n",
    "    coloanele lui :param mat:.\n",
    "    \n",
    "    :param mat: matrice de forma (m, n)\n",
    "    :return: matrice de forma (m, n+1), cu prima coloana plina cu 1, ultimele \n",
    "    n coloane sunt cele din :param mat:\n",
    "    \"\"\"\n",
    "    m, n = mat.shape\n",
    "    result = # scrieti cod\n",
    "    assert result.shape == (m, n+1)\n",
    "    assert np.alltrue(result[:, 0] == 1)\n",
    "    assert np.alltrue(result[:, 1:] == mat)\n",
    "    return result"
   ]
  },
  {
   "cell_type": "code",
   "execution_count": null,
   "metadata": {
    "ExecuteTime": {
     "end_time": "2020-03-01T08:55:44.373503Z",
     "start_time": "2020-03-01T08:55:44.367519Z"
    }
   },
   "outputs": [],
   "source": [
    "# calculeaza matricea de design: vechea matrice la care se adauga pe prima\n",
    "# pozitie coloana cu 1\n",
    "X = # scrieti cod"
   ]
  },
  {
   "cell_type": "markdown",
   "metadata": {},
   "source": [
    "## Linear regression with stochastic gradient descent"
   ]
  },
  {
   "cell_type": "markdown",
   "metadata": {},
   "source": [
    "### Model implementation"
   ]
  },
  {
   "cell_type": "code",
   "execution_count": null,
   "metadata": {
    "ExecuteTime": {
     "end_time": "2020-03-01T08:55:44.384473Z",
     "start_time": "2020-03-01T08:55:44.376495Z"
    }
   },
   "outputs": [],
   "source": [
    "# Functie care implementeaza modelul de regresie liniara\n",
    "\n",
    "def h(X: np.array, w: np.array) -> np.array:\n",
    "    \"\"\"Pentru un model liniar specificat prin parametrii w si un set de date \n",
    "    de intrare X produce valorile estimate de model: \n",
    "    y_hat[i] = X[i, 0] * w[0] + X[i, 1] * w[1] + ...  \n",
    "   \n",
    "   :param X: valori de intrare, structurate ca np.array de forma (m, n)\n",
    "   :param w: vector de ponderi, de forma (n, 1)\n",
    "   :return: vector cu valori de iesire estimate, de forma (n, 1). \n",
    "    \"\"\"\n",
    "    assert w.shape == (X.shape[1], 1)\n",
    "    assert X.shape[1] == w.shape[0]\n",
    "    y_hat = # scrieti cod; pentru punctaj maxim, vectorizat\n",
    "    assert y_hat.shape == (X.shape[0], 1)\n",
    "    return y_hat"
   ]
  },
  {
   "cell_type": "markdown",
   "metadata": {},
   "source": [
    "### MSE function"
   ]
  },
  {
   "cell_type": "code",
   "execution_count": null,
   "metadata": {
    "ExecuteTime": {
     "end_time": "2020-03-01T08:55:44.394446Z",
     "start_time": "2020-03-01T08:55:44.387465Z"
    }
   },
   "outputs": [],
   "source": [
    "# Implementare de eroare patratica medie; a nu se confunda cu functia de eroare\n",
    "\n",
    "def mean_squared_error(y: np.array, y_hat: np.array) -> float:\n",
    "    \"\"\"Functie de eroare patratica medie.\n",
    "    \n",
    "    :param y: vector coloana de m elemente, continand valorile de iesire reale \n",
    "    (ground truth)\n",
    "    :param y_hat': vector coloana de m elemente, continand valorile de iesire\n",
    "    estimate.\n",
    "    :return: eroarea patratica medie.\n",
    "    \"\"\"\n",
    "    result = # scrieti cod\n",
    "    return result"
   ]
  },
  {
   "cell_type": "markdown",
   "metadata": {},
   "source": [
    "### Cost function"
   ]
  },
  {
   "cell_type": "code",
   "execution_count": null,
   "metadata": {
    "ExecuteTime": {
     "end_time": "2020-03-01T08:55:44.407412Z",
     "start_time": "2020-03-01T08:55:44.397439Z"
    }
   },
   "outputs": [],
   "source": [
    "# Functia de eroare\n",
    "\n",
    "def J(X:np.array, w:np.array, y:np.array, lmbda: float = 0) -> float:\n",
    "    \"\"\"Calculeaza valoarea functiei de eroare pentru intrarea curenta :param X:, \n",
    "    estimarea produsa de model folosind ponderile :param w: si iesirea corecta\n",
    "    :param y: (ground truth).\n",
    "    \n",
    "    :param X: matrice de valori de intrare pentru care modelul de regresie \n",
    "    liniara produce estimari. Are forma (m, n)\n",
    "    :param w: vector coloana de ponderi, definind coeficientii modelului de \n",
    "    regresie liniara. Are forma (n, 1).\n",
    "    :param y: vector coloana de valori de iesire cunoscute (ground truth). \n",
    "    Are forma (n, 1).\n",
    "    :param lmda: coeficientul de penalizare L2\n",
    "    :return: jumatate din mean squared error plus penalizarea L2\n",
    "    \"\"\"\n",
    "    assert w.shape == (X.shape[1], 1)\n",
    "    assert y.shape == (X.shape[0], 1)\n",
    "    assert lmbda >= 0\n",
    "    m = X.shape[0]\n",
    "    y_hat = # scrieti cod\n",
    "    assert y_hat.shape == (X.shape[0], 1)\n",
    "    term_squared_error = # scrieti cod\n",
    "    l2_error = # scrieti cod\n",
    "    return term_squared_error + l2_error "
   ]
  },
  {
   "cell_type": "markdown",
   "metadata": {
    "ExecuteTime": {
     "end_time": "2020-02-29T17:01:38.997750Z",
     "start_time": "2020-02-29T17:01:38.989771Z"
    }
   },
   "source": [
    "### Stochastic gradient descent implementation"
   ]
  },
  {
   "cell_type": "code",
   "execution_count": null,
   "metadata": {
    "ExecuteTime": {
     "end_time": "2020-03-01T08:55:44.421375Z",
     "start_time": "2020-03-01T08:55:44.410404Z"
    }
   },
   "outputs": [],
   "source": [
    "# Calcul de gradient. gradientul se va folosi in actualizarea ponderilor. \n",
    "\n",
    "def gradient(X:np.array, w:np.array, y:np.array, lmbda: float = 0) -> np.array:\n",
    "    \"\"\"Calculeaza gradientul functiei de eroare\n",
    "    \n",
    "    :param X: matrice de valori de intrare pentru care modelul de regresie \n",
    "    liniara produce estimari. Are forma (m, n)\n",
    "    :param w: vector coloana de ponderi, definind coeficientii modelului de \n",
    "    regresie liniara. Are forma (n, 1).\n",
    "    :param y: vector coloana de valori de iesire cunoscute (ground truth). \n",
    "    Are forma (n, 1).\n",
    "    :param lmda: coeficientul de penalizare L2\n",
    "    :return: vector gradient\n",
    "    \"\"\"\n",
    "    assert w.shape == (X.shape[1], 1)\n",
    "    assert y.shape == (X.shape[0], 1)\n",
    "    assert lmbda >= 0\n",
    "    m, _ = X.shape\n",
    "    y_hat = # scrieti cod\n",
    "    grad = # scrieti cod vectorizat, daca vreti sa rulati in timp rezonabil :)\n",
    "    grad[1:, ] += # scrieti cod pentru a include si gradientul pentru termenul L2\n",
    "    assert grad.shape == w.shape\n",
    "    return grad"
   ]
  },
  {
   "cell_type": "code",
   "execution_count": null,
   "metadata": {
    "ExecuteTime": {
     "end_time": "2020-03-01T08:55:44.435336Z",
     "start_time": "2020-03-01T08:55:44.424367Z"
    }
   },
   "outputs": [],
   "source": [
    "# Implementarea algoritmului de antrenare\n",
    "\n",
    "def train(X:np.array, y:np.array, max_iters:int = 100000, alpha:float = 0.01, lmbda: float = 0.01) -> Tuple[np.array, List[float]]:\n",
    "    \"\"\"Aplica algoritmul de instruire cu gradient. \n",
    "    \n",
    "    :param X: matrice de valori de intrare pentru care modelul de regresie \n",
    "    liniara produce estimari. Are forma (m, n)\n",
    "    :param y: vector coloana de valori de iesire cunoscute (ground truth). \n",
    "    Are forma (n, 1).\n",
    "    :param alpha: rata de invatare\n",
    "    :param lmda: coeficientul de penalizare L2\n",
    "    :return: tuplu continand ponderile modelului rezultate dupa instruire, lista de erori pe setul de antrenare\n",
    "    \"\"\"\n",
    "    m, n = X.shape\n",
    "    assert y.shape == (m, 1)\n",
    "    assert X.shape[0] == y.shape[0]\n",
    "    w = # scrieti cod pentru initializare ponderi\n",
    "    losses = [None] * max_iters\n",
    "    for i in range(max_iters):\n",
    "        # calculeaza si adauga loss-ul in lista\n",
    "        # calculeaza gradientul si actualizaeaza ponderile w\n",
    "        loss = # scrieti cod\n",
    "        losses[i] = loss\n",
    "        grad = # scrieti cod\n",
    "        w -= # scrieti cod pentru actualizare de ponderi folosind gradientul\n",
    "    return w, losses"
   ]
  },
  {
   "cell_type": "code",
   "execution_count": null,
   "metadata": {
    "ExecuteTime": {
     "end_time": "2020-03-01T08:57:44.303742Z",
     "start_time": "2020-03-01T08:55:44.439328Z"
    }
   },
   "outputs": [],
   "source": [
    "# calcul ponderi si valorile functiei de cost\n",
    "\n",
    "w, losses = train(X, y, max_iters=100000, alpha=0.3, lmbda=0.1)"
   ]
  },
  {
   "cell_type": "code",
   "execution_count": null,
   "metadata": {
    "ExecuteTime": {
     "end_time": "2020-03-01T08:57:44.535124Z",
     "start_time": "2020-03-01T08:57:44.304740Z"
    },
    "scrolled": false
   },
   "outputs": [],
   "source": [
    "# desenarea curbei de cost pe setul de antrenare\n",
    "\n",
    "plt.figure(figsize=(12, 8))\n",
    "plt.xlabel('Epoca')\n",
    "plt.ylabel('Valoare de eroare')\n",
    "plt.plot(losses)"
   ]
  },
  {
   "cell_type": "code",
   "execution_count": null,
   "metadata": {
    "ExecuteTime": {
     "end_time": "2020-03-01T08:57:44.546094Z",
     "start_time": "2020-03-01T08:57:44.537120Z"
    }
   },
   "outputs": [],
   "source": [
    "# Obtine valorile estimate de model, calculeaza eroarea intre estimare si \n",
    "# ground truth.\n",
    "\n",
    "# estimare facuta de model\n",
    "y_hat = # scrieti cod\n",
    "# mean squared error pe setul de antrenare\n",
    "error_sgd = # scrieti cod\n",
    "\n",
    "print('Eroarea determinata prin algoritmul stochastic gradient descent:', error_sgd)\n",
    "print('Vectorul de ponderi:', w[:, 0])"
   ]
  },
  {
   "cell_type": "markdown",
   "metadata": {},
   "source": [
    "### Pseudoinverse method"
   ]
  },
  {
   "cell_type": "code",
   "execution_count": null,
   "metadata": {
    "ExecuteTime": {
     "end_time": "2020-03-01T09:03:02.137124Z",
     "start_time": "2020-03-01T09:03:02.117178Z"
    }
   },
   "outputs": [],
   "source": [
    "# se calculeaza w cu metoda pseudoinversei \n",
    "w_pinv = # scrieti cod pentru calcul folosinf metoda pinv din numpy\n",
    "\n",
    "# se calculeaza estimarea data cu ponderile w_pinv\n",
    "y_hat_pinv = # scrieti cod\n",
    "\n",
    "# se calculeaza eroarea patratica medie\n",
    "error_pinv= # scrieti cod\n",
    "\n",
    "print('Eroarea determinata prin metoda pseudoinversei:', error_pinv)"
   ]
  },
  {
   "cell_type": "code",
   "execution_count": null,
   "metadata": {
    "ExecuteTime": {
     "end_time": "2020-03-01T09:03:02.602130Z",
     "start_time": "2020-03-01T09:03:02.598140Z"
    }
   },
   "outputs": [],
   "source": [
    "# print(np.linalg.norm(gradient(X, w_pinv, y)))"
   ]
  },
  {
   "cell_type": "code",
   "execution_count": null,
   "metadata": {
    "ExecuteTime": {
     "end_time": "2020-03-01T09:03:03.032011Z",
     "start_time": "2020-03-01T09:03:03.025997Z"
    }
   },
   "outputs": [],
   "source": [
    "# afiseaza ponderile determinate prin metoda pseudoinversei\n",
    "\n",
    "print(w_pinv[:, 0])"
   ]
  },
  {
   "cell_type": "markdown",
   "metadata": {},
   "source": [
    "## Split validation"
   ]
  },
  {
   "cell_type": "code",
   "execution_count": null,
   "metadata": {
    "ExecuteTime": {
     "end_time": "2020-03-01T09:03:03.497733Z",
     "start_time": "2020-03-01T09:03:03.484769Z"
    }
   },
   "outputs": [],
   "source": [
    "# imparte setul initial in 70% antrenare si 30% testare\n",
    "\n",
    "data = # scrieti cod pentru a face o permutare aleatoare\n",
    "split_percentage = 0.7\n",
    "split_index = # scrieti cod; care e linia la care se opresete setul de train\n",
    "data_train = # scrieti cod\n",
    "data_test = # scrieti cod\n",
    "\n",
    "X_train, y_train = # scrieti cod pentru a separa intrarea de iesire\n",
    "X_test, y_test = # scrieti cod pentru a separa intrarea de iesire"
   ]
  },
  {
   "cell_type": "code",
   "execution_count": null,
   "metadata": {
    "ExecuteTime": {
     "end_time": "2020-03-01T09:03:04.082177Z",
     "start_time": "2020-03-01T09:03:04.069206Z"
    }
   },
   "outputs": [],
   "source": [
    "# scaleaza datele de intrare din setul de antrenare si obtine minimele \n",
    "# si maximele pe coloane\n",
    "X_train, min_X_train, max_X_train = # scrieti cod \n",
    "# scaleaza datele de iesire din setul de antrenare si obtine minimul si \n",
    "# maximul pe coloana\n",
    "y_train, min_y_train, max_y_train = # scrieti cod "
   ]
  },
  {
   "cell_type": "code",
   "execution_count": null,
   "metadata": {
    "ExecuteTime": {
     "end_time": "2020-03-01T09:03:04.584843Z",
     "start_time": "2020-03-01T09:03:04.577859Z"
    }
   },
   "outputs": [],
   "source": [
    "# scaleaza datele de intrare din setul de test, folosind minimele si maximele \n",
    "# pe coloane aflate de la X_train\n",
    "# se foloseste functia scale_matrix_with_known_minmax\n",
    "X_test = # scrieti cod \n",
    "\n",
    "# scaleaza datele de iesire din setul de test, folosind minimul si maximul \n",
    "# pe coloana aflate de la y_train\n",
    "y_test = # scrieti cod "
   ]
  },
  {
   "cell_type": "code",
   "execution_count": null,
   "metadata": {
    "ExecuteTime": {
     "end_time": "2020-03-01T09:04:28.792911Z",
     "start_time": "2020-03-01T09:03:05.053587Z"
    }
   },
   "outputs": [],
   "source": [
    "# antreneaza linear regression pe setul de antrenare, obtine ponderile\n",
    "# modelului\n",
    "\n",
    "w_train, losses_train = # scrieti cod pentru antrenare pe X_train, y_train \n",
    "# restul parametrilor ca la apelul de antrenare de mai sus"
   ]
  },
  {
   "cell_type": "code",
   "execution_count": null,
   "metadata": {
    "ExecuteTime": {
     "end_time": "2020-03-01T09:04:29.653610Z",
     "start_time": "2020-03-01T09:04:29.646629Z"
    }
   },
   "outputs": [],
   "source": [
    "# obtine estimarile date de model pe setul de testare\n",
    "\n",
    "y_hat_test = # scrieti cod \n",
    "print('MSE pentru setul de testare:', mean_squared_error(y_test, y_hat_test))"
   ]
  },
  {
   "cell_type": "code",
   "execution_count": null,
   "metadata": {
    "ExecuteTime": {
     "end_time": "2020-03-01T09:04:30.850441Z",
     "start_time": "2020-03-01T09:04:30.485385Z"
    }
   },
   "outputs": [],
   "source": [
    "# reprezentarea diferentei intre ground truth si estimare pe setul de testare\n",
    "plt.figure(figsize=(12, 8))\n",
    "plt.title('Erori reziduale pe setul de testare')\n",
    "plt.plot(y_test - y_hat_test)\n",
    "plt.xlabel('Data de intrare')\n",
    "plt.ylabel('Diferenta intre ground truth si valoarea estimata')"
   ]
  },
  {
   "cell_type": "code",
   "execution_count": null,
   "metadata": {},
   "outputs": [],
   "source": []
  }
 ],
 "metadata": {
  "kernelspec": {
   "display_name": "Python 3",
   "language": "python",
   "name": "python3"
  },
  "language_info": {
   "codemirror_mode": {
    "name": "ipython",
    "version": 3
   },
   "file_extension": ".py",
   "mimetype": "text/x-python",
   "name": "python",
   "nbconvert_exporter": "python",
   "pygments_lexer": "ipython3",
   "version": "3.7.6"
  },
  "notify_time": "5",
  "toc": {
   "base_numbering": 1,
   "nav_menu": {},
   "number_sections": true,
   "sideBar": true,
   "skip_h1_title": false,
   "title_cell": "Table of Contents",
   "title_sidebar": "Contents",
   "toc_cell": false,
   "toc_position": {},
   "toc_section_display": true,
   "toc_window_display": false
  },
  "varInspector": {
   "cols": {
    "lenName": 16,
    "lenType": 16,
    "lenVar": 40
   },
   "kernels_config": {
    "python": {
     "delete_cmd_postfix": "",
     "delete_cmd_prefix": "del ",
     "library": "var_list.py",
     "varRefreshCmd": "print(var_dic_list())"
    },
    "r": {
     "delete_cmd_postfix": ") ",
     "delete_cmd_prefix": "rm(",
     "library": "var_list.r",
     "varRefreshCmd": "cat(var_dic_list()) "
    }
   },
   "types_to_exclude": [
    "module",
    "function",
    "builtin_function_or_method",
    "instance",
    "_Feature"
   ],
   "window_display": false
  }
 },
 "nbformat": 4,
 "nbformat_minor": 4
}
