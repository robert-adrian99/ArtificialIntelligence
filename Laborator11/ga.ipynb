{
 "cells": [
  {
   "cell_type": "markdown",
   "metadata": {},
   "source": [
    "# Bucur Robert - Adrian\n",
    "## Grupa 10LF381\n",
    "## Genetic Algorithm - BucurRobert-381-ga.ipynb"
   ]
  },
  {
   "cell_type": "code",
   "execution_count": 1,
   "metadata": {},
   "outputs": [],
   "source": [
    "import numpy as np\n",
    "import pandas as pd\n",
    "import matplotlib.pyplot as plt\n",
    "from typing import Tuple, List\n",
    "import bitstring\n",
    "import random"
   ]
  },
  {
   "cell_type": "markdown",
   "metadata": {},
   "source": [
    "## Definirea functiei pt calculul maximului"
   ]
  },
  {
   "cell_type": "code",
   "execution_count": 2,
   "metadata": {},
   "outputs": [],
   "source": [
    "def f(x, y):\n",
    "    return np.abs((10 * x ** 2 * y - 5 * x ** 2 - 4 * y ** 2 - x ** 4 - 2 * y ** 4) / 2) + 1"
   ]
  },
  {
   "cell_type": "markdown",
   "metadata": {},
   "source": [
    "## Definirea hiperparametrilor"
   ]
  },
  {
   "cell_type": "code",
   "execution_count": 3,
   "metadata": {},
   "outputs": [],
   "source": [
    "x_inf_domain = -20      # marginea inferioara a domeniului functiei\n",
    "x_sup_domain = 20       # marginea superioara a domeniului functiei\n",
    "y_inf_domain = -5       # marginea inferioara a codomeniului functiei\n",
    "y_sup_domain = 5        # marginea superioara a codomeniului functiei\n",
    "n = 500                 # indivizi per generatie\n",
    "m = 60                  # numar maxim de iteratii\n",
    "k_x = 8                 # gene x per cromozom\n",
    "k_y = 16                # gene y per cromozom\n",
    "prob_imperechere = 0.1  # probabilitate imperechere\n",
    "prob_mutatie = 0.01     # probabilitate mutatie"
   ]
  },
  {
   "cell_type": "markdown",
   "metadata": {},
   "source": [
    "## Definire de functii utile"
   ]
  },
  {
   "cell_type": "code",
   "execution_count": 4,
   "metadata": {},
   "outputs": [],
   "source": [
    "def cromozom(x_string, y_string):\n",
    "    bitstring_x = bitstring.BitArray(bin=x_string)\n",
    "    bitstring_y = bitstring.BitArray(bin=y_string)\n",
    "    v_c_x = bitstring_x.uint\n",
    "    v_c_y = bitstring_y.uint\n",
    "    x = x_inf_domain + v_c_x * ((x_sup_domain - x_inf_domain) / (2 ** k_x - 1))\n",
    "    y = y_inf_domain + v_c_y * ((y_sup_domain - y_inf_domain) / (2 ** k_y - 1))\n",
    "    return x, y, f(x, y)"
   ]
  },
  {
   "cell_type": "code",
   "execution_count": 5,
   "metadata": {},
   "outputs": [],
   "source": [
    "def generatie(x_generatie, y_generatie):\n",
    "    x = np.zeros((n))\n",
    "    y = np.zeros((n))\n",
    "    value = np.zeros((n))\n",
    "    dimensiune_generatie = x_generatie.shape[0]\n",
    "    for i in range(0, dimensiune_generatie):\n",
    "        x[i], y[i], value[i] = cromozom(x_generatie[i], y_generatie[i])\n",
    "    return x, y, value"
   ]
  },
  {
   "cell_type": "markdown",
   "metadata": {},
   "source": [
    "## Crearea unei populatii initiale de cromozomi"
   ]
  },
  {
   "cell_type": "code",
   "execution_count": 6,
   "metadata": {},
   "outputs": [],
   "source": [
    "def random_bs(k):\n",
    "    return \"\".join(str(random.randint(0, 1)) for x in range(0,k))\n",
    "populatie_x = np.empty([m, n], dtype='object')\n",
    "populatie_y = np.empty([m, n], dtype='object')\n",
    "for i in range(0, n):\n",
    "    populatie_x[0, i] = random_bs(k_x)\n",
    "    populatie_y[0, i] = random_bs(k_y)"
   ]
  },
  {
   "cell_type": "markdown",
   "metadata": {},
   "source": [
    "## Incrucisarea"
   ]
  },
  {
   "cell_type": "code",
   "execution_count": 7,
   "metadata": {},
   "outputs": [],
   "source": [
    "def incrucisare(generatie, k):\n",
    "    candidati = np.empty(0)\n",
    "    nr = np.random.uniform(0, 1, n)\n",
    "\n",
    "    for i in range(0, n):\n",
    "        if nr[i] < prob_imperechere:\n",
    "            candidati = np.append(candidati, i)\n",
    "\n",
    "    if candidati.shape[0] >= 2:\n",
    "        if candidati.shape[0] % 2 != 0:\n",
    "            candidati = candidati[0:-1]\n",
    "\n",
    "        for i in range(0, candidati.shape[0], 2):\n",
    "            t = int(np.random.uniform(1, k-1, 1))\n",
    "            c = int(candidati[i])\n",
    "            generatie[c] = generatie[c][:t] + generatie[c+1][t:]\n",
    "            generatie[c+1] = generatie[c+1][:t] + generatie[c][t:]\n",
    "\n",
    "    return generatie"
   ]
  },
  {
   "cell_type": "markdown",
   "metadata": {},
   "source": [
    "## Mutatia"
   ]
  },
  {
   "cell_type": "code",
   "execution_count": 8,
   "metadata": {},
   "outputs": [],
   "source": [
    "def mutatie(generatie, k):\n",
    "    nr = np.random.uniform(0, 1, n*k)\n",
    "    i = 0\n",
    "\n",
    "    for cromozom_i, cromozom in enumerate(generatie):\n",
    "        for gena_i, gena in enumerate(cromozom):\n",
    "            if nr[i] < prob_mutatie:\n",
    "                bs = generatie[cromozom_i]\n",
    "                generatie[cromozom_i] = bs[:gena_i] + ('1' if bs[gena_i] == '0' else '1') + bs[gena_i+1:]\n",
    "            i += 1\n",
    "\n",
    "    return generatie"
   ]
  },
  {
   "cell_type": "markdown",
   "metadata": {},
   "source": [
    "# Implementarea algoritmului"
   ]
  },
  {
   "cell_type": "code",
   "execution_count": 9,
   "metadata": {},
   "outputs": [],
   "source": [
    "g_index = 1\n",
    "while g_index < m:\n",
    "    g_xs, g_ys, g_values = generatie(populatie_x[g_index - 1], populatie_y[g_index -1])\n",
    "    g_sum = np.sum(g_values)\n",
    "    g_p = g_values / g_sum\n",
    "    g_q = np.cumsum(g_p)\n",
    "    nr = np.random.uniform(0, 1, n)\n",
    "    for index in range(0, n):\n",
    "        for q_index, q_value in enumerate(g_q):\n",
    "            if nr[index] <= q_value:\n",
    "                populatie_x[g_index, index] = populatie_x[g_index - 1, q_index]\n",
    "                populatie_y[g_index, index] = populatie_y[g_index - 1, q_index]\n",
    "                break\n",
    "    populatie_x[g_index] = incrucisare(populatie_x[g_index], k_x)\n",
    "    populatie_y[g_index] = incrucisare(populatie_y[g_index], k_y)\n",
    "    populatie_x[g_index] = mutatie(populatie_x[g_index], k_x)\n",
    "    populatie_y[g_index] = mutatie(populatie_y[g_index], k_y)\n",
    "    g_index += 1"
   ]
  },
  {
   "cell_type": "markdown",
   "metadata": {},
   "source": [
    "## Crearea fisierului rezultat"
   ]
  },
  {
   "cell_type": "code",
   "execution_count": 10,
   "metadata": {},
   "outputs": [],
   "source": [
    "file = open(\"ga-result.txt\", 'w')\n",
    "\n",
    "for g_index in range(0,m):\n",
    "    file.write(f\"#inceput date generatie {g_index}\\n\")\n",
    "    \n",
    "    g_xs,g_ys,g_values = generatie(populatie_x[g_index], populatie_y[g_index])\n",
    "    for index in range(0,n):\n",
    "        file.write(f\"cromozom: x={g_xs[index]}, y={g_ys[index]}\\nvaloare: {g_values[index]}\\n\")\n",
    "\n",
    "    file.write(f\"#sfarsit date generatie {g_index}\\n\")\n",
    "\n",
    "file.close()"
   ]
  }
 ],
 "metadata": {
  "language_info": {
   "codemirror_mode": {
    "name": "ipython",
    "version": 3
   },
   "file_extension": ".py",
   "mimetype": "text/x-python",
   "name": "python",
   "nbconvert_exporter": "python",
   "pygments_lexer": "ipython3",
   "version": "3.7.7-final"
  },
  "orig_nbformat": 2,
  "kernelspec": {
   "name": "python37664bitiaconda90a31a080f914cbaa28bfd972b8621f4",
   "display_name": "Python 3.7.6 64-bit ('ia': conda)"
  }
 },
 "nbformat": 4,
 "nbformat_minor": 2
}